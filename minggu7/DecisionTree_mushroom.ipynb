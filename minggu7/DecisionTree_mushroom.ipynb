{
 "cells": [
  {
   "cell_type": "code",
   "execution_count": 1,
   "metadata": {
    "id": "rw2trGGto-4O"
   },
   "outputs": [],
   "source": [
    "# Import library numpy, pandas dan scikit-learn\n",
    "import numpy as np\n",
    "import pandas as pd\n",
    "from sklearn import tree"
   ]
  },
  {
   "cell_type": "code",
   "execution_count": 2,
   "metadata": {
    "id": "acy6kUs3phwJ"
   },
   "outputs": [],
   "source": [
    "# Membaca Dataset dari File ke Pandas dataFrame\n",
    "Dataset = pd.read_csv('dataset/mushroom_cleaned.csv')"
   ]
  },
  {
   "cell_type": "code",
   "execution_count": 3,
   "metadata": {},
   "outputs": [
    {
     "name": "stdout",
     "output_type": "stream",
     "text": [
      "   cap-diameter  cap-shape  gill-attachment  gill-color  stem-height  \\\n",
      "0          1372          2                2          10     3.807467   \n",
      "1          1461          2                2          10     3.807467   \n",
      "2          1371          2                2          10     3.612496   \n",
      "3          1261          6                2          10     3.787572   \n",
      "4          1305          6                2          10     3.711971   \n",
      "\n",
      "   stem-width  stem-color    season  class  \n",
      "0        1545          11  1.804273      1  \n",
      "1        1557          11  1.804273      1  \n",
      "2        1566          11  1.804273      1  \n",
      "3        1566          11  1.804273      1  \n",
      "4        1464          11  0.943195      1  \n"
     ]
    }
   ],
   "source": [
    "print(Dataset.head())"
   ]
  },
  {
   "cell_type": "code",
   "execution_count": 4,
   "metadata": {},
   "outputs": [
    {
     "name": "stdout",
     "output_type": "stream",
     "text": [
      "<class 'pandas.core.frame.DataFrame'>\n",
      "RangeIndex: 54035 entries, 0 to 54034\n",
      "Data columns (total 9 columns):\n",
      " #   Column           Non-Null Count  Dtype  \n",
      "---  ------           --------------  -----  \n",
      " 0   cap-diameter     54035 non-null  int64  \n",
      " 1   cap-shape        54035 non-null  int64  \n",
      " 2   gill-attachment  54035 non-null  int64  \n",
      " 3   gill-color       54035 non-null  int64  \n",
      " 4   stem-height      54035 non-null  float64\n",
      " 5   stem-width       54035 non-null  int64  \n",
      " 6   stem-color       54035 non-null  int64  \n",
      " 7   season           54035 non-null  float64\n",
      " 8   class            54035 non-null  int64  \n",
      "dtypes: float64(2), int64(7)\n",
      "memory usage: 3.7 MB\n",
      "None\n"
     ]
    }
   ],
   "source": [
    "print(Dataset.info())"
   ]
  },
  {
   "cell_type": "code",
   "execution_count": 5,
   "metadata": {
    "id": "dG-3UdM3rUxu"
   },
   "outputs": [],
   "source": [
    "# Mengubah dataFrame ke array Numpy\n",
    "Dataset = Dataset.to_numpy()"
   ]
  },
  {
   "cell_type": "code",
   "execution_count": 6,
   "metadata": {
    "id": "yAN-UH4kriLH"
   },
   "outputs": [],
   "source": [
    "# #Membagi Dataset => 80 baris data untuk training dan 20 baris data untuk testing\n",
    "# dataTraining = np.concatenate((Dataset[0:40, :], Dataset[50:90, :]), \n",
    "#                               axis=0)\n",
    "# dataTesting = np.concatenate((Dataset[40:50, :], Dataset[90:100, :]), \n",
    "#                              axis=0)"
   ]
  },
  {
   "cell_type": "code",
   "execution_count": 7,
   "metadata": {},
   "outputs": [
    {
     "name": "stdout",
     "output_type": "stream",
     "text": [
      "Bentuk dataTraining: (43228, 9)\n",
      "Bentuk dataTesting: (10807, 9)\n"
     ]
    }
   ],
   "source": [
    "from sklearn.model_selection import train_test_split\n",
    "# Membagi dataset menjadi 80% untuk pelatihan dan 20% untuk pengujian\n",
    "dataTraining, dataTesting = train_test_split(Dataset, test_size=0.2, random_state=0)\n",
    "\n",
    "# Menampilkan bentuk dataTraining dan dataTesting\n",
    "print(\"Bentuk dataTraining:\", dataTraining.shape)  \n",
    "print(\"Bentuk dataTesting:\", dataTesting.shape)   "
   ]
  },
  {
   "cell_type": "code",
   "execution_count": 8,
   "metadata": {
    "id": "4H9gup4Gs0aX"
   },
   "outputs": [],
   "source": [
    "# Memecah Dataset ke Input dan Label\n",
    "inputTraining = dataTraining[:, 0:9]  # Mengambil semua kolom input (kolom 1 sampai 9)\n",
    "inputTesting = dataTesting[:, 0:9]\n",
    "labelTraining = dataTraining[:, 8]  # Kolom ke-9 sebagai label\n",
    "labelTesting = dataTesting[:, 8]     # Kolom ke-9 sebagai label"
   ]
  },
  {
   "cell_type": "code",
   "execution_count": 9,
   "metadata": {},
   "outputs": [
    {
     "name": "stdout",
     "output_type": "stream",
     "text": [
      "[[5.15000000e+02 5.00000000e+00 1.00000000e+00 ... 7.00000000e+00\n",
      "  9.43194554e-01 1.00000000e+00]\n",
      " [6.25000000e+02 2.00000000e+00 5.00000000e+00 ... 7.00000000e+00\n",
      "  9.43194554e-01 0.00000000e+00]\n",
      " [6.84000000e+02 6.00000000e+00 2.00000000e+00 ... 1.10000000e+01\n",
      "  8.88450288e-01 1.00000000e+00]\n",
      " ...\n",
      " [2.63000000e+02 0.00000000e+00 0.00000000e+00 ... 3.00000000e+00\n",
      "  9.43194554e-01 1.00000000e+00]\n",
      " [8.06000000e+02 6.00000000e+00 4.00000000e+00 ... 1.00000000e+00\n",
      "  8.88450288e-01 0.00000000e+00]\n",
      " [1.22400000e+03 6.00000000e+00 2.00000000e+00 ... 1.10000000e+01\n",
      "  9.43194554e-01 0.00000000e+00]]\n"
     ]
    }
   ],
   "source": [
    "print(inputTraining)"
   ]
  },
  {
   "cell_type": "code",
   "execution_count": 10,
   "metadata": {},
   "outputs": [
    {
     "name": "stdout",
     "output_type": "stream",
     "text": [
      "[1. 0. 1. ... 1. 0. 0.]\n"
     ]
    }
   ],
   "source": [
    "print(labelTraining)"
   ]
  },
  {
   "cell_type": "code",
   "execution_count": 11,
   "metadata": {},
   "outputs": [],
   "source": [
    "# Membulatkan labelTraining\n",
    "labelTraining = labelTraining.astype(int)"
   ]
  },
  {
   "cell_type": "code",
   "execution_count": 12,
   "metadata": {},
   "outputs": [
    {
     "name": "stdout",
     "output_type": "stream",
     "text": [
      "Input Training:\n",
      " [[0.00000000e+00 0.00000000e+00 1.00000000e+00 0.00000000e+00\n",
      "  0.00000000e+00 1.00000000e+00 5.15000000e+02 5.00000000e+00\n",
      "  1.00000000e+00 6.00000000e+00 9.47425074e-01 5.60000000e+02\n",
      "  7.00000000e+00]\n",
      " [0.00000000e+00 0.00000000e+00 1.00000000e+00 0.00000000e+00\n",
      "  1.00000000e+00 0.00000000e+00 6.25000000e+02 2.00000000e+00\n",
      "  5.00000000e+00 5.00000000e+00 9.66468625e-01 1.09400000e+03\n",
      "  7.00000000e+00]\n",
      " [0.00000000e+00 1.00000000e+00 0.00000000e+00 0.00000000e+00\n",
      "  0.00000000e+00 1.00000000e+00 6.84000000e+02 6.00000000e+00\n",
      "  2.00000000e+00 1.00000000e+01 4.41242080e-01 1.38200000e+03\n",
      "  1.10000000e+01]\n",
      " [0.00000000e+00 0.00000000e+00 1.00000000e+00 0.00000000e+00\n",
      "  1.00000000e+00 0.00000000e+00 1.04700000e+03 6.00000000e+00\n",
      "  6.00000000e+00 5.00000000e+00 1.11837388e-01 2.50800000e+03\n",
      "  8.00000000e+00]\n",
      " [0.00000000e+00 0.00000000e+00 1.00000000e+00 0.00000000e+00\n",
      "  0.00000000e+00 1.00000000e+00 5.88000000e+02 6.00000000e+00\n",
      "  5.00000000e+00 3.00000000e+00 2.55080992e-01 7.09000000e+02\n",
      "  6.00000000e+00]]\n",
      "Input Testing:\n",
      " [[0.00000000e+00 0.00000000e+00 1.00000000e+00 0.00000000e+00\n",
      "  0.00000000e+00 1.00000000e+00 7.13000000e+02 6.00000000e+00\n",
      "  0.00000000e+00 5.00000000e+00 1.21316594e+00 1.32100000e+03\n",
      "  6.00000000e+00]\n",
      " [0.00000000e+00 1.00000000e+00 0.00000000e+00 0.00000000e+00\n",
      "  0.00000000e+00 1.00000000e+00 3.94000000e+02 0.00000000e+00\n",
      "  0.00000000e+00 5.00000000e+00 2.21189217e+00 6.40000000e+02\n",
      "  1.10000000e+01]\n",
      " [0.00000000e+00 0.00000000e+00 1.00000000e+00 0.00000000e+00\n",
      "  1.00000000e+00 0.00000000e+00 6.31000000e+02 6.00000000e+00\n",
      "  1.00000000e+00 6.00000000e+00 8.38367492e-03 1.22800000e+03\n",
      "  1.10000000e+01]\n",
      " [0.00000000e+00 0.00000000e+00 1.00000000e+00 0.00000000e+00\n",
      "  0.00000000e+00 1.00000000e+00 9.01000000e+02 2.00000000e+00\n",
      "  6.00000000e+00 1.00000000e+01 1.89357306e+00 1.15400000e+03\n",
      "  1.10000000e+01]\n",
      " [0.00000000e+00 1.00000000e+00 0.00000000e+00 0.00000000e+00\n",
      "  0.00000000e+00 1.00000000e+00 1.02800000e+03 6.00000000e+00\n",
      "  5.00000000e+00 1.10000000e+01 7.71498165e-01 1.73900000e+03\n",
      "  6.00000000e+00]]\n"
     ]
    }
   ],
   "source": [
    "from sklearn.compose import ColumnTransformer\n",
    "from sklearn.preprocessing import OneHotEncoder\n",
    "\n",
    "ct = ColumnTransformer(transformers=[('encoder', OneHotEncoder(), [7,8])], remainder='passthrough')\n",
    "# Transformasi inputTraining dan inputTesting\n",
    "inputTraining = np.array(ct.fit_transform(inputTraining))\n",
    "inputTesting = np.array(ct.transform(inputTesting))  # Hanya transformasi, tidak fit ulang\n",
    "\n",
    "# Menampilkan hasil\n",
    "print(\"Input Training:\\n\", inputTraining[:5])  # Tampilkan 5 baris pertama\n",
    "print(\"Input Testing:\\n\", inputTesting[:5]) "
   ]
  },
  {
   "cell_type": "code",
   "execution_count": 13,
   "metadata": {
    "id": "kco04ijXtRvn"
   },
   "outputs": [],
   "source": [
    "# Mendefinisikan Decision Tree Classifier\n",
    "model = tree.DecisionTreeClassifier()"
   ]
  },
  {
   "cell_type": "code",
   "execution_count": 14,
   "metadata": {
    "id": "92Ji3zzNtcJG"
   },
   "outputs": [],
   "source": [
    "# Mentraining Model\n",
    "model = model.fit(inputTraining, labelTraining)"
   ]
  },
  {
   "cell_type": "code",
   "execution_count": 15,
   "metadata": {
    "id": "xPE9lX1PtlKW"
   },
   "outputs": [
    {
     "name": "stdout",
     "output_type": "stream",
     "text": [
      "Label Sebenarnya :  [1. 1. 0. ... 1. 1. 1.]\n",
      "Hasil Prediksi :  [1 1 0 ... 1 1 1]\n"
     ]
    }
   ],
   "source": [
    "# Memprediksi Input Data Testing\n",
    "hasilPrediksi = model.predict(inputTesting)\n",
    "print(\"Label Sebenarnya : \", labelTesting)\n",
    "print(\"Hasil Prediksi : \", hasilPrediksi)"
   ]
  },
  {
   "cell_type": "code",
   "execution_count": 16,
   "metadata": {
    "id": "6SMAZMn4uBD1"
   },
   "outputs": [
    {
     "name": "stdout",
     "output_type": "stream",
     "text": [
      "Prediksi Benar : 10807 data\n",
      "Prediksi Salah : 0 data\n",
      "Akurasi : 100.0 %\n"
     ]
    }
   ],
   "source": [
    "# Menghitung Akurasi\n",
    "prediksiBenar = (hasilPrediksi == labelTesting).sum()\n",
    "prediksiSalah = (hasilPrediksi != labelTesting).sum()\n",
    "print(\"Prediksi Benar :\", prediksiBenar, \"data\")\n",
    "print(\"Prediksi Salah :\", prediksiSalah, \"data\")\n",
    "print(\"Akurasi :\", prediksiBenar/(prediksiBenar+prediksiSalah) * 100, \"%\")"
   ]
  }
 ],
 "metadata": {
  "colab": {
   "name": "DecisionTree IrisCSV.ipynb",
   "provenance": []
  },
  "kernelspec": {
   "display_name": "Python 3 (ipykernel)",
   "language": "python",
   "name": "python3"
  },
  "language_info": {
   "codemirror_mode": {
    "name": "ipython",
    "version": 3
   },
   "file_extension": ".py",
   "mimetype": "text/x-python",
   "name": "python",
   "nbconvert_exporter": "python",
   "pygments_lexer": "ipython3",
   "version": "3.12.8"
  }
 },
 "nbformat": 4,
 "nbformat_minor": 4
}

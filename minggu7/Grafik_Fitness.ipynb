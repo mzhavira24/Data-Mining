{
 "cells": [
  {
   "cell_type": "code",
   "execution_count": 1,
   "metadata": {
    "id": "IklTYiWZVgVN"
   },
   "outputs": [],
   "source": [
    "#Import Library Scikit Learn untuk Decision Tree, Dataset & Matplotlib\n",
    "import numpy as np\n",
    "import pandas as pd\n",
    "from sklearn.model_selection import train_test_split\n",
    "from sklearn.tree import DecisionTreeClassifier, export_graphviz\n",
    "import pydotplus\n",
    "import matplotlib.pyplot as plt\n",
    "from sklearn import tree\n",
    "from IPython.display import Image, display"
   ]
  },
  {
   "cell_type": "code",
   "execution_count": 2,
   "metadata": {
    "id": "awYc77BNV88s"
   },
   "outputs": [],
   "source": [
    "# Load Dataset \n",
    "Dataset = pd.read_csv('dataset/mushroom_cleaned.csv')"
   ]
  },
  {
   "cell_type": "code",
   "execution_count": 3,
   "metadata": {},
   "outputs": [
    {
     "name": "stdout",
     "output_type": "stream",
     "text": [
      "   cap-diameter  cap-shape  gill-attachment  gill-color  stem-height  \\\n",
      "0          1372          2                2          10     3.807467   \n",
      "1          1461          2                2          10     3.807467   \n",
      "2          1371          2                2          10     3.612496   \n",
      "3          1261          6                2          10     3.787572   \n",
      "4          1305          6                2          10     3.711971   \n",
      "\n",
      "   stem-width  stem-color    season  class  \n",
      "0        1545          11  1.804273      1  \n",
      "1        1557          11  1.804273      1  \n",
      "2        1566          11  1.804273      1  \n",
      "3        1566          11  1.804273      1  \n",
      "4        1464          11  0.943195      1  \n"
     ]
    }
   ],
   "source": [
    "# Memeriksa beberapa baris pertama dari dataset\n",
    "print(Dataset.head())"
   ]
  },
  {
   "cell_type": "code",
   "execution_count": 4,
   "metadata": {},
   "outputs": [],
   "source": [
    "# Memisahkan fitur dan label\n",
    "features = Dataset[['cap-diameter', 'cap-shape', 'gill-attachment', \n",
    "             'gill-color', 'stem-height', 'stem-width', 'season']]\n",
    "target = Dataset['class']  # Kolom label"
   ]
  },
  {
   "cell_type": "code",
   "execution_count": 5,
   "metadata": {},
   "outputs": [],
   "source": [
    "# X = Dataset.drop(columns=[\"class\"])  # Menggunakan semua kolom kecuali 'class'"
   ]
  },
  {
   "cell_type": "code",
   "execution_count": 6,
   "metadata": {
    "id": "Yg3xOE5dWZM7"
   },
   "outputs": [],
   "source": [
    "# Membuat Objek Model Decision Tree\n",
    "decisiontree = DecisionTreeClassifier(random_state=0, max_depth=None, \n",
    "                                      min_samples_split=2, min_samples_leaf=1,\n",
    "                                      min_weight_fraction_leaf=0,\n",
    "                                      max_leaf_nodes=None, \n",
    "                                      min_impurity_decrease=0)"
   ]
  },
  {
   "cell_type": "code",
   "execution_count": 7,
   "metadata": {
    "id": "rvS3w3ulaS-h"
   },
   "outputs": [],
   "source": [
    "#Mentraining Model Decision Tree\n",
    "model = decisiontree.fit(features, target)"
   ]
  },
  {
   "cell_type": "code",
   "execution_count": 8,
   "metadata": {
    "id": "Qilt5_XdafYe"
   },
   "outputs": [
    {
     "name": "stdout",
     "output_type": "stream",
     "text": [
      "Fitur yang digunakan model: ['cap-diameter' 'cap-shape' 'gill-attachment' 'gill-color' 'stem-height'\n",
      " 'stem-width' 'season']\n",
      "Predicted Class: [1]\n",
      "Predicted Probabilities: [[0. 1.]]\n"
     ]
    }
   ],
   "source": [
    "import pandas as pd\n",
    "\n",
    "# Dataset dengan semua kolom termasuk 'class'\n",
    "observation_with_class = pd.DataFrame(\n",
    "    [[1372, 2, 2, 10, 3.807467, 1545, 11, 1.804273, 1]],\n",
    "    columns=['cap-diameter', 'cap-shape', 'gill-attachment', 'gill-color',\n",
    "             'stem-height', 'stem-width', 'stem-color', 'season', 'class']\n",
    ")\n",
    "\n",
    "# Memisahkan fitur dan menghilangkan kolom 'class'\n",
    "observation = observation_with_class.drop(columns=['class'])\n",
    "\n",
    "# Cek fitur yang digunakan oleh model\n",
    "print(\"Fitur yang digunakan model:\", model.feature_names_in_)\n",
    "\n",
    "# Pastikan observasi hanya berisi fitur yang digunakan oleh model\n",
    "observation = observation[model.feature_names_in_]\n",
    "\n",
    "# Prediksi dengan model\n",
    "predicted_class = model.predict(observation)\n",
    "predicted_proba = model.predict_proba(observation)\n",
    "\n",
    "print(\"Predicted Class:\", predicted_class)\n",
    "print(\"Predicted Probabilities:\", predicted_proba)\n"
   ]
  },
  {
   "cell_type": "code",
   "execution_count": 9,
   "metadata": {
    "id": "X0kEroBEhSA7"
   },
   "outputs": [
    {
     "name": "stdout",
     "output_type": "stream",
     "text": [
      "dot: graph is too large for cairo-renderer bitmaps. Scaling by 0.343992 to fit\n",
      "\n",
      "dot: graph is too large for cairo-renderer bitmaps. Scaling by 0.343992 to fit\n",
      "\n"
     ]
    },
    {
     "data": {
      "text/plain": [
       "True"
      ]
     },
     "execution_count": 9,
     "metadata": {},
     "output_type": "execute_result"
    }
   ],
   "source": [
    "from sklearn import tree\n",
    "import pydotplus\n",
    "from IPython.display import Image\n",
    "\n",
    "# Mengonversi class_names menjadi string\n",
    "class_names = [str(c) for c in target.unique()]\n",
    "\n",
    "# Membuat grafik visualisasi Decision Tree\n",
    "dot_data = tree.export_graphviz(\n",
    "    decisiontree, out_file=None,\n",
    "    feature_names=features.columns,\n",
    "    class_names=class_names,  \n",
    "    filled=True, rounded=True,\n",
    "    special_characters=True\n",
    ")\n",
    "\n",
    "# Menggunakan pydotplus untuk menggambar Decision Tree\n",
    "graph = pydotplus.graph_from_dot_data(dot_data)\n",
    "\n",
    "# Menampilkan Decision Tree\n",
    "Image(graph.create_png())\n",
    "\n",
    "# Menyimpan grafik ke file\n",
    "graph.write_png('grafik/mushroom.png')"
   ]
  },
  {
   "cell_type": "code",
   "execution_count": null,
   "metadata": {},
   "outputs": [],
   "source": []
  }
 ],
 "metadata": {
  "colab": {
   "collapsed_sections": [],
   "name": "DecisionTree.ipynb",
   "provenance": []
  },
  "kernelspec": {
   "display_name": "Python 3 (ipykernel)",
   "language": "python",
   "name": "python3"
  },
  "language_info": {
   "codemirror_mode": {
    "name": "ipython",
    "version": 3
   },
   "file_extension": ".py",
   "mimetype": "text/x-python",
   "name": "python",
   "nbconvert_exporter": "python",
   "pygments_lexer": "ipython3",
   "version": "3.12.8"
  }
 },
 "nbformat": 4,
 "nbformat_minor": 4
}
